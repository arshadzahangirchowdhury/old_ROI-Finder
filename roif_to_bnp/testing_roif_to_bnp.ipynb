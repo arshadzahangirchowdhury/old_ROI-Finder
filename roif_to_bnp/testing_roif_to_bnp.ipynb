{
 "cells": [
  {
   "cell_type": "code",
   "execution_count": 1,
   "id": "8d3da699",
   "metadata": {},
   "outputs": [
    {
     "name": "stdout",
     "output_type": "stream",
     "text": [
      "XRF /home/beams/USERBNP/arshad/Practice_h5/bnp_fly0032.mda.h5\n",
      "(32, 14)\n",
      "XRF /home/beams/USERBNP/arshad/Practice_h5/bnp_fly0042.mda.h5\n",
      "pvindex: 9\n",
      "pvval: 640.298361\n",
      "(67, 14)\n",
      "XRF /home/beams/USERBNP/arshad/Practice_h5/bnp_fly0043.mda.h5\n",
      "pvindex: 9\n",
      "pvval: 640.298361\n",
      "(32, 14)\n",
      "XRF /home/beams/USERBNP/arshad/Practice_h5/bnp_fly0065.mda.h5\n",
      "pvindex: 9\n",
      "pvval: 375.299039\n",
      "(18, 14)\n",
      "XRF /home/beams/USERBNP/arshad/Practice_h5/bnp_fly0066.mda.h5\n",
      "pvindex: 9\n",
      "pvval: 375.399039\n",
      "(18, 14)\n",
      "XRF /home/beams/USERBNP/arshad/Practice_h5/bnp_fly0073.mda.h52\n",
      "pvindex: 9\n",
      "pvval: 417.498931\n",
      "(19, 14)\n",
      "XRF /home/beams/USERBNP/arshad/Practice_h5/bnp_fly0082.mda.h52\n",
      "(7, 14)\n",
      "XRF /home/beams/USERBNP/arshad/Practice_h5/bnp_fly0082.mda.h52\n",
      "Current XRF: (7, 14)\n",
      "Total extracted cells, features: (200, 14)\n",
      "Total extracted cell, cell size: (200, 32, 32)\n",
      "Bounding box width and height (pixels): 32\n",
      "Actual cells, features (147, 11)\n",
      "class_0 cells found: 10\n",
      "class_1 cells found: 2\n",
      "in scan:  bnp_fly0082.mda.h52\n",
      "class 0 cell original idx: [187]\n",
      "class 1 cell original idx: [191]\n"
     ]
    },
    {
     "data": {
      "text/plain": [
       "(array([  -51.46974945, -1051.97631836]),\n",
       " array([  -52.71974945, -1042.22631836]))"
      ]
     },
     "execution_count": 1,
     "metadata": {},
     "output_type": "execute_result"
    }
   ],
   "source": [
    "import roif_to_bnp\n",
    "from roif_to_bnp import ROI_Finder\n",
    "\n",
    "\n",
    "ROI_Finder(target_base_file_path = '/home/beams/USERBNP/arshad/Practice_h5/',\n",
    "               target_xrf_filename ='bnp_fly0082.mda.h52', mode='single')\n"
   ]
  },
  {
   "cell_type": "markdown",
   "id": "cf69126b",
   "metadata": {},
   "source": [
    "# thes above is a single ROI-finder function to return motor co-ordinates\n",
    "\n",
    "the first array is for a class 0 cell\n",
    "the second array is for a class 1 cell"
   ]
  },
  {
   "cell_type": "markdown",
   "id": "2e59523b",
   "metadata": {},
   "source": [
    "## Merging ROI-finder with BNP batch scan\n"
   ]
  },
  {
   "cell_type": "code",
   "execution_count": null,
   "id": "ec772202",
   "metadata": {},
   "outputs": [],
   "source": [
    "import sys, os\n",
    "sys.path.append('/home/beams/USERBNP/scripts/bnpTools')\n",
    "from bnpScan import bnpScan\n",
    "import numpy as np\n",
    "import roif_to_bnp\n",
    "from roif_to_bnp import ROI_Finder\n",
    "\n",
    "userdir = '/mnt/micdata1/bnp/2022-1/OK'\n",
    "logfile = 'log-ROI-Finder.txt'   \n",
    "A = bnpScan(userdir, logfile)\n",
    "sampleName = 'Ecoli'\n",
    "BDAin = -9058\n",
    "x_width = 8\n",
    "y_width = 8\n",
    "x_step = 0.08\n",
    "y_step = 0.08\n",
    "dw = 100"
   ]
  },
  {
   "cell_type": "code",
   "execution_count": null,
   "id": "bfacd994",
   "metadata": {},
   "outputs": [],
   "source": [
    "samz = 650.90\n",
    "coords = ROI_Finder(target_base_file_path = '/home/beams/USERBNP/arshad/Practice_h5/',\n",
    "               target_xrf_filename ='bnp_fly0082.mda.h52', mode='single')\n",
    "scans = [[x_width, y_width, x_step, y_step, dw, round(c[0],2), round(c[1],2), samz] for c in coords ]\n",
    "A.setupBatchXRFScans(sampleName, scans, BDAin, smp_angle = None)"
   ]
  },
  {
   "cell_type": "code",
   "execution_count": null,
   "id": "8fd7017e",
   "metadata": {},
   "outputs": [],
   "source": [
    "A.scandic"
   ]
  },
  {
   "cell_type": "code",
   "execution_count": null,
   "id": "e2f8f5cc",
   "metadata": {},
   "outputs": [],
   "source": [
    "# A.startScan()"
   ]
  },
  {
   "cell_type": "code",
   "execution_count": null,
   "id": "a1be1bfd",
   "metadata": {},
   "outputs": [],
   "source": [
    "pvlist = self.h5[\"/MAPS/extra_pvs\"][0].astype(str).tolist()\n",
    "pvval = self.h5[\"/MAPS/extra_pvs\"][1].astype(str).tolist()\n",
    "\n",
    "# self.file_z = float(\n",
    "#     pvval[pvlist.index(self.pvComm.pvs[\"z_value_Act\"].pv.pvname)]\n",
    "# )\n",
    "# self.file_theta = float(\n",
    "#     pvval[pvlist.index(self.pvComm.pvs[\"sm_rot_Act\"].pv.pvname)]\n",
    "# )\n",
    "# '9idbTAU:SM:SZ:ActPos'"
   ]
  }
 ],
 "metadata": {
  "kernelspec": {
   "display_name": "Python 3 (ipykernel)",
   "language": "python",
   "name": "python3"
  },
  "language_info": {
   "codemirror_mode": {
    "name": "ipython",
    "version": 3
   },
   "file_extension": ".py",
   "mimetype": "text/x-python",
   "name": "python",
   "nbconvert_exporter": "python",
   "pygments_lexer": "ipython3",
   "version": "3.7.11"
  }
 },
 "nbformat": 4,
 "nbformat_minor": 5
}
